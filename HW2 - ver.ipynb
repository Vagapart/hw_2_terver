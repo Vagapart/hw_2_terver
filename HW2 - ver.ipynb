{
 "cells": [
  {
   "cell_type": "markdown",
   "id": "7ac929b6",
   "metadata": {},
   "source": [
    "# ДЗ 2"
   ]
  },
  {
   "cell_type": "code",
   "execution_count": 1,
   "id": "1e7c83d6",
   "metadata": {},
   "outputs": [],
   "source": [
    "import math"
   ]
  },
  {
   "cell_type": "markdown",
   "id": "a820b6ce",
   "metadata": {},
   "source": [
    "1. Задача"
   ]
  },
  {
   "cell_type": "markdown",
   "id": "0abd8786",
   "metadata": {},
   "source": [
    "Вероятность того, что стрелок попадет в мишень, выстрелив один раз, равна 0.8. Стрелок выстрелил 100 раз. Найдите вероятность того, что стрелок попадет в цель ровно 85 раз. \n",
    "\n",
    "Решается при помощи формулы Бернулли"
   ]
  },
  {
   "cell_type": "markdown",
   "id": "f34a7a00",
   "metadata": {},
   "source": [
    "100! / (85! * (100 - 85)!) * 0.8 ^ 85 * 0.2 ^ 15 "
   ]
  },
  {
   "cell_type": "code",
   "execution_count": 8,
   "id": "f60a6096",
   "metadata": {},
   "outputs": [
    {
     "data": {
      "text/plain": [
       "0.048061793700746556"
      ]
     },
     "execution_count": 8,
     "metadata": {},
     "output_type": "execute_result"
    }
   ],
   "source": [
    "math.factorial(100) /  (math.factorial(85) * math.factorial(100 - 85)) * 0.8 ** 85 * 0.2 ** 15"
   ]
  },
  {
   "cell_type": "markdown",
   "id": "0b74b8cf",
   "metadata": {},
   "source": [
    "2. задача\n",
    "Вероятность того, что лампочка перегорит в течение первого дня эксплуатации, равна 0.0004. В жилом комплексе после ремонта в один день включили 5000 новых лампочек. Какова вероятность, что ни одна из них не перегорит в первый день? Какова вероятность, что перегорят ровно две?\n",
    "\n",
    "Решается при помощи формулы Бернулли"
   ]
  },
  {
   "cell_type": "markdown",
   "id": "2762e4b2",
   "metadata": {},
   "source": [
    "Вероятность что ни одна не перегорит:\n",
    "5000! / (0! * (5000 - 0)!) * 0.0004 ^ 0 * 0.996 ^ 5000 "
   ]
  },
  {
   "cell_type": "code",
   "execution_count": 9,
   "id": "d7b32e2e",
   "metadata": {},
   "outputs": [
    {
     "data": {
      "text/plain": [
       "1.980122772806995e-09"
      ]
     },
     "execution_count": 9,
     "metadata": {},
     "output_type": "execute_result"
    }
   ],
   "source": [
    "math.factorial(5000) /  (math.factorial(0) * math.factorial(5000 - 0)) * 0.0004 ** 0 * 0.996 ** 5000"
   ]
  },
  {
   "cell_type": "markdown",
   "id": "679cb5d4",
   "metadata": {},
   "source": [
    "вероятность, что перегорят ровно две\n",
    "5000! / (2! * (5000 - 2)!) * 0.0004 ^ 2 * 0.996 ^ 4998 "
   ]
  },
  {
   "cell_type": "code",
   "execution_count": 12,
   "id": "d67f2715",
   "metadata": {},
   "outputs": [
    {
     "data": {
      "text/plain": [
       "3.991320196957375e-09"
      ]
     },
     "execution_count": 12,
     "metadata": {},
     "output_type": "execute_result"
    }
   ],
   "source": [
    "math.factorial(5000) /  (math.factorial(2) * math.factorial(5000 - 2)) * 0.0004 ** 2 * 0.996 ** 4998"
   ]
  },
  {
   "cell_type": "markdown",
   "id": "09afcfb5",
   "metadata": {},
   "source": [
    "3. Задача \n",
    "Монету подбросили 144 раза. Какова вероятность, что орел выпадет ровно 70 раз?\n",
    "\n",
    "Решается при помощи формулы Бернулли"
   ]
  },
  {
   "cell_type": "markdown",
   "id": "0ad70f5e",
   "metadata": {},
   "source": [
    "вероятность, что 70 раз\n",
    "144! / (70! * (144 - 70)!) * 0.5 ^ 70 * 0.5 ^ 74 "
   ]
  },
  {
   "cell_type": "code",
   "execution_count": 13,
   "id": "dab6c8b7",
   "metadata": {},
   "outputs": [
    {
     "data": {
      "text/plain": [
       "0.06281178035144776"
      ]
     },
     "execution_count": 13,
     "metadata": {},
     "output_type": "execute_result"
    }
   ],
   "source": [
    "math.factorial(144) /  (math.factorial(70) * math.factorial(144 - 70)) * 0.5 ** 70 * 0.5 ** 74"
   ]
  },
  {
   "cell_type": "markdown",
   "id": "78b38fe4",
   "metadata": {},
   "source": [
    "4. Задача\n",
    "В первом ящике находится 10 мячей, из которых 7 - белые. Во втором ящике - 11 мячей, из которых 9 белых. Из каждого ящика вытаскивают случайным образом по два мяча. Какова вероятность того, что все мячи белые? Какова вероятность того, что ровно два мяча белые? Какова вероятность того, что хотя бы один мяч белый?"
   ]
  },
  {
   "cell_type": "markdown",
   "id": "1930fd5b",
   "metadata": {},
   "source": [
    "вероятность того, что все мячи белые.\n",
    "Надо найти вероятность что из первого ящика достанут 2 мяча (С1), и найти вероятность что из второго ящика достанут 2 белых мяча (С2). Далее надо вероятности умножить, чтобы поучить итоговую вероятность.\n",
    "\n",
    "Р(С1) / Р(А1). 7!/(7-2)!2! / (10!/(10-2)!2!) - вероятность достать 2 бел. мяча из первого ящика\n",
    "Р(С2) / Р(А2). 9!/(9-2)!2! / (11!/(11-2)!2!) - вероятность достать 2 бел. мяча из второго ящика"
   ]
  },
  {
   "cell_type": "code",
   "execution_count": 20,
   "id": "77f3b20f",
   "metadata": {},
   "outputs": [
    {
     "data": {
      "text/plain": [
       "0.4666666666666667"
      ]
     },
     "execution_count": 20,
     "metadata": {},
     "output_type": "execute_result"
    }
   ],
   "source": [
    "С1 = 7 * 6 / (1 * 2) / (10 * 9 / (1 * 2))\n",
    "С1"
   ]
  },
  {
   "cell_type": "code",
   "execution_count": 21,
   "id": "d1e1cfbe",
   "metadata": {},
   "outputs": [
    {
     "data": {
      "text/plain": [
       "0.6545454545454545"
      ]
     },
     "execution_count": 21,
     "metadata": {},
     "output_type": "execute_result"
    }
   ],
   "source": [
    "С2 = 9 * 8 / (1 * 2) / (11 * 10 / (1 * 2))\n",
    "С2"
   ]
  },
  {
   "cell_type": "code",
   "execution_count": 22,
   "id": "639667c8",
   "metadata": {},
   "outputs": [
    {
     "data": {
      "text/plain": [
       "0.3054545454545455"
      ]
     },
     "execution_count": 22,
     "metadata": {},
     "output_type": "execute_result"
    }
   ],
   "source": [
    "С1 * С2 "
   ]
  },
  {
   "cell_type": "markdown",
   "id": "68aaad8d",
   "metadata": {},
   "source": [
    "Какова вероятность того, что ровно два мяча белые\n",
    "Для этого надо собрать вероятности что из первой корзины достали 1 и из второй 1, из первой два, а из второй 0 и наоборот.\n",
    "//math.comb(n, k) - далее будет использоваться эта функция для подсчета комбинаций"
   ]
  },
  {
   "cell_type": "code",
   "execution_count": 32,
   "id": "ab4479fd",
   "metadata": {},
   "outputs": [
    {
     "data": {
      "text/plain": [
       "0.15272727272727274"
      ]
     },
     "execution_count": 32,
     "metadata": {},
     "output_type": "execute_result"
    }
   ],
   "source": [
    "Вер1_1 = math.comb(7, 1) * math.comb(3, 1) / math.comb(10, 2)    *   math.comb(9, 1) * math.comb(2, 1) / math.comb(11, 2) \n",
    "Вер1_1"
   ]
  },
  {
   "cell_type": "code",
   "execution_count": 33,
   "id": "af1cba74",
   "metadata": {},
   "outputs": [
    {
     "data": {
      "text/plain": [
       "0.008484848484848486"
      ]
     },
     "execution_count": 33,
     "metadata": {},
     "output_type": "execute_result"
    }
   ],
   "source": [
    "Вер2_0 = math.comb(7, 2) * math.comb(3, 0) / math.comb(10, 2)    *   math.comb(9, 0) * math.comb(2, 2) / math.comb(11, 2) \n",
    "Вер2_0"
   ]
  },
  {
   "cell_type": "code",
   "execution_count": 35,
   "id": "41fd2579",
   "metadata": {},
   "outputs": [
    {
     "data": {
      "text/plain": [
       "0.04363636363636363"
      ]
     },
     "execution_count": 35,
     "metadata": {},
     "output_type": "execute_result"
    }
   ],
   "source": [
    "Вер0_2 = math.comb(7, 0) * math.comb(3, 2) / math.comb(10, 2)    *   math.comb(9, 2) * math.comb(2, 0) / math.comb(11, 2) \n",
    "Вер0_2"
   ]
  },
  {
   "cell_type": "code",
   "execution_count": 36,
   "id": "8a4edd5e",
   "metadata": {},
   "outputs": [
    {
     "data": {
      "text/plain": [
       "0.20484848484848486"
      ]
     },
     "execution_count": 36,
     "metadata": {},
     "output_type": "execute_result"
    }
   ],
   "source": [
    "ВерОбщая = Вер0_2 + Вер2_0 + Вер1_1\n",
    "ВерОбщая"
   ]
  },
  {
   "cell_type": "markdown",
   "id": "49d4eb74",
   "metadata": {},
   "source": [
    "Какова вероятность того, что хотя бы один мяч белый.\n",
    "Здесь проще пойти от обратного: посчитать вероятность, что все мячи черные и вычесть из единицы."
   ]
  },
  {
   "cell_type": "code",
   "execution_count": 38,
   "id": "f0997595",
   "metadata": {},
   "outputs": [
    {
     "data": {
      "text/plain": [
       "0.0012121212121212121"
      ]
     },
     "execution_count": 38,
     "metadata": {},
     "output_type": "execute_result"
    }
   ],
   "source": [
    "ВерЧерныеВсе = math.comb(7, 0) * math.comb(3, 2) / math.comb(10, 2)    *   math.comb(9, 0) * math.comb(2, 2) / math.comb(11, 2) \n",
    "ВерЧерныеВсе"
   ]
  },
  {
   "cell_type": "code",
   "execution_count": 39,
   "id": "78b5506b",
   "metadata": {},
   "outputs": [
    {
     "data": {
      "text/plain": [
       "0.9987878787878788"
      ]
     },
     "execution_count": 39,
     "metadata": {},
     "output_type": "execute_result"
    }
   ],
   "source": [
    "ВероятностьХотябыОдинБелый = 1 - ВерЧерныеВсе\n",
    "ВероятностьХотябыОдинБелый"
   ]
  },
  {
   "cell_type": "code",
   "execution_count": null,
   "id": "866d1c25",
   "metadata": {},
   "outputs": [],
   "source": []
  },
  {
   "cell_type": "code",
   "execution_count": null,
   "id": "015e60c8",
   "metadata": {},
   "outputs": [],
   "source": []
  }
 ],
 "metadata": {
  "kernelspec": {
   "display_name": "Python 3",
   "language": "python",
   "name": "python3"
  },
  "language_info": {
   "codemirror_mode": {
    "name": "ipython",
    "version": 3
   },
   "file_extension": ".py",
   "mimetype": "text/x-python",
   "name": "python",
   "nbconvert_exporter": "python",
   "pygments_lexer": "ipython3",
   "version": "3.8.8"
  }
 },
 "nbformat": 4,
 "nbformat_minor": 5
}
